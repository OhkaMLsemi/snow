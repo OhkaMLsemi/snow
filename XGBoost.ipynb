{
 "cells": [
  {
   "cell_type": "code",
   "execution_count": 1,
   "metadata": {},
   "outputs": [
    {
     "name": "stderr",
     "output_type": "stream",
     "text": [
      "C:\\ProgramData\\Anaconda3\\lib\\site-packages\\sklearn\\cross_validation.py:44: DeprecationWarning: This module was deprecated in version 0.18 in favor of the model_selection module into which all the refactored classes and functions are moved. Also note that the interface of the new CV iterators are different from that of this module. This module will be removed in 0.20.\n",
      "  \"This module will be removed in 0.20.\", DeprecationWarning)\n",
      "C:\\ProgramData\\Anaconda3\\lib\\site-packages\\sklearn\\grid_search.py:43: DeprecationWarning: This module was deprecated in version 0.18 in favor of the model_selection module into which all the refactored classes and functions are moved. This module will be removed in 0.20.\n",
      "  DeprecationWarning)\n"
     ]
    }
   ],
   "source": [
    "import os\n",
    "mingw_path = 'C:\\\\Program Files\\\\mingw-w64\\\\bin'\n",
    "os.environ['PATH'] = mingw_path + ';' + os.environ['PATH']\n",
    "\n",
    "import numpy as np\n",
    "import pandas as pd\n",
    "import datetime\n",
    "import matplotlib.pyplot as plt\n",
    "import xgboost as xgb\n",
    "\n",
    "from sklearn.metrics import mean_squared_error\n",
    "from sklearn.grid_search import GridSearchCV\n",
    "from sklearn.grid_search import RandomizedSearchCV\n",
    "from sklearn.model_selection import train_test_split"
   ]
  },
  {
   "cell_type": "markdown",
   "metadata": {},
   "source": [
    "# 1.データの加工"
   ]
  },
  {
   "cell_type": "code",
   "execution_count": 2,
   "metadata": {},
   "outputs": [],
   "source": [
    "data = pd.read_csv(\"train.csv\", encoding=\"shift-jis\")\n",
    "test = pd.read_csv(\"test.csv\", encoding=\"shift-jis\")"
   ]
  },
  {
   "cell_type": "markdown",
   "metadata": {},
   "source": [
    "trainデータ加工（停車駅はdummy変数,年月日はdatetime）"
   ]
  },
  {
   "cell_type": "code",
   "execution_count": 3,
   "metadata": {
    "collapsed": true
   },
   "outputs": [],
   "source": [
    "dummy_data = pd.get_dummies(data[[\"停車駅名\"]], drop_first = True)\n",
    "\n",
    "datetime_data = pd.to_datetime(data.loc[:,\"年月日\"])\n",
    "year_data = datetime_data.apply(lambda x:x.year)\n",
    "month_data = datetime_data.apply(lambda x:x.month)\n",
    "day_data = datetime_data.apply(lambda x:x.day)"
   ]
  },
  {
   "cell_type": "code",
   "execution_count": 4,
   "metadata": {
    "collapsed": true
   },
   "outputs": [],
   "source": [
    "data = pd.concat([data,dummy_data],axis=1)\n",
    "data = pd.concat([data,datetime_data],axis=1)\n",
    "data = pd.concat([data,year_data],axis=1)\n",
    "data = pd.concat([data,month_data],axis=1)\n",
    "data = pd.concat([data,day_data],axis=1)\n",
    "data.columns = [\"年月日\",\"列車番号\",\"停車駅名\",\"台車部分\",\"fender_tokyo\",\"fender_kanazawa\",\"fender_total\",\"station_dummy\",\"datetime\",\"year\",\"month\",\"day\"]"
   ]
  },
  {
   "cell_type": "code",
   "execution_count": 5,
   "metadata": {
    "collapsed": true
   },
   "outputs": [],
   "source": [
    "feature_name = [\"station_dummy\",\"year\",\"month\",\"day\"]\n",
    "target_name = [\"台車部分\"]\n",
    "X_train,X_valid,y_train,y_valid = train_test_split(data[feature_name],data[target_name],test_size=0.2,random_state=42)"
   ]
  },
  {
   "cell_type": "markdown",
   "metadata": {},
   "source": [
    "# 2.モデリング"
   ]
  },
  {
   "cell_type": "code",
   "execution_count": 6,
   "metadata": {
    "scrolled": true
   },
   "outputs": [
    {
     "data": {
      "text/plain": [
       "GridSearchCV(cv=10, error_score='raise',\n",
       "       estimator=XGBRegressor(base_score=0.5, booster='gbtree', colsample_bylevel=1,\n",
       "       colsample_bytree=1, gamma=0, learning_rate=0.1, max_delta_step=0,\n",
       "       max_depth=3, min_child_weight=1, missing=None, n_estimators=100,\n",
       "       n_jobs=1, nthread=None, objective='reg:linear', random_state=0,\n",
       "       reg_alpha=0, reg_lambda=1, scale_pos_weight=1, seed=None,\n",
       "       silent=True, subsample=1),\n",
       "       fit_params={}, iid=True, n_jobs=1,\n",
       "       param_grid={'learning_rate': [0.5, 0.35, 0.1], 'max_depth': [5, 7, 10], 'subsample': [0.8, 0.9, 0.95], 'n_estimators': [50, 100, 200], 'colsample_bytree': [0.5, 0.75, 1.0]},\n",
       "       pre_dispatch='2*n_jobs', refit=True,\n",
       "       scoring='neg_mean_squared_error', verbose=0)"
      ]
     },
     "execution_count": 6,
     "metadata": {},
     "output_type": "execute_result"
    }
   ],
   "source": [
    "param_grid = {'learning_rate':[0.5,0.35,0.1], 'max_depth':[5,7,10], 'subsample':[0.8,0.9,0.95],'n_estimators':[50,100,200],'colsample_bytree':[0.5,0.75,1.0]}\n",
    "reg = xgb.XGBRegressor()\n",
    "reg_cv = GridSearchCV(reg,param_grid,cv=10,scoring= 'neg_mean_squared_error',n_jobs=1)\n",
    "reg_cv.fit(X_train,y_train)"
   ]
  },
  {
   "cell_type": "markdown",
   "metadata": {},
   "source": [
    "↓何やってるかちょっと怪しい"
   ]
  },
  {
   "cell_type": "code",
   "execution_count": 7,
   "metadata": {
    "scrolled": true
   },
   "outputs": [
    {
     "name": "stdout",
     "output_type": "stream",
     "text": [
      "[0]\tvalidation_0-logloss:0.287724\n",
      "Will train until validation_0-logloss hasn't improved in 50 rounds.\n",
      "[1]\tvalidation_0-logloss:0.133572\n",
      "[2]\tvalidation_0-logloss:0.064574\n",
      "[3]\tvalidation_0-logloss:0.031779\n",
      "[4]\tvalidation_0-logloss:0.015778\n",
      "[5]\tvalidation_0-logloss:0.007872\n",
      "[6]\tvalidation_0-logloss:0.003944\n",
      "[7]\tvalidation_0-logloss:0.001987\n",
      "[8]\tvalidation_0-logloss:0.001009\n",
      "[9]\tvalidation_0-logloss:0.000522\n",
      "[10]\tvalidation_0-logloss:0.000277\n",
      "[11]\tvalidation_0-logloss:0.000156\n",
      "[12]\tvalidation_0-logloss:9.6e-05\n",
      "[13]\tvalidation_0-logloss:6.7e-05\n",
      "[14]\tvalidation_0-logloss:5.3e-05\n",
      "[15]\tvalidation_0-logloss:4.6e-05\n",
      "[16]\tvalidation_0-logloss:4.3e-05\n",
      "[17]\tvalidation_0-logloss:4.1e-05\n",
      "[18]\tvalidation_0-logloss:4.1e-05\n",
      "[19]\tvalidation_0-logloss:4.1e-05\n",
      "[20]\tvalidation_0-logloss:4.1e-05\n",
      "[21]\tvalidation_0-logloss:4.1e-05\n",
      "[22]\tvalidation_0-logloss:4.1e-05\n",
      "[23]\tvalidation_0-logloss:4.1e-05\n",
      "[24]\tvalidation_0-logloss:4.1e-05\n",
      "[25]\tvalidation_0-logloss:4.1e-05\n",
      "[26]\tvalidation_0-logloss:4.1e-05\n",
      "[27]\tvalidation_0-logloss:4.1e-05\n",
      "[28]\tvalidation_0-logloss:4.1e-05\n",
      "[29]\tvalidation_0-logloss:6.6e-05\n",
      "[30]\tvalidation_0-logloss:6.6e-05\n",
      "[31]\tvalidation_0-logloss:6.6e-05\n",
      "[32]\tvalidation_0-logloss:6.6e-05\n",
      "[33]\tvalidation_0-logloss:6.6e-05\n",
      "[34]\tvalidation_0-logloss:4.1e-05\n",
      "[35]\tvalidation_0-logloss:4.1e-05\n",
      "[36]\tvalidation_0-logloss:4.1e-05\n",
      "[37]\tvalidation_0-logloss:4.2e-05\n",
      "[38]\tvalidation_0-logloss:4.3e-05\n",
      "[39]\tvalidation_0-logloss:4.1e-05\n",
      "[40]\tvalidation_0-logloss:4.9e-05\n",
      "[41]\tvalidation_0-logloss:4.9e-05\n",
      "[42]\tvalidation_0-logloss:4.1e-05\n",
      "[43]\tvalidation_0-logloss:6.6e-05\n",
      "[44]\tvalidation_0-logloss:4.2e-05\n",
      "[45]\tvalidation_0-logloss:4.1e-05\n",
      "[46]\tvalidation_0-logloss:4.2e-05\n",
      "[47]\tvalidation_0-logloss:6.6e-05\n",
      "[48]\tvalidation_0-logloss:4.1e-05\n",
      "[49]\tvalidation_0-logloss:4.1e-05\n"
     ]
    },
    {
     "data": {
      "text/plain": [
       "XGBRegressor(base_score=0.5, booster='gbtree', colsample_bylevel=1,\n",
       "       colsample_bytree=0.75, gamma=0, learning_rate=0.5, max_delta_step=0,\n",
       "       max_depth=5, min_child_weight=1, missing=None, n_estimators=50,\n",
       "       n_jobs=1, nthread=None, objective='reg:linear', random_state=0,\n",
       "       reg_alpha=0, reg_lambda=1, scale_pos_weight=1, seed=None,\n",
       "       silent=True, subsample=0.8)"
      ]
     },
     "execution_count": 7,
     "metadata": {},
     "output_type": "execute_result"
    }
   ],
   "source": [
    "reg = xgb.XGBRegressor(**reg_cv.best_params_)\n",
    "eval_set = [(X_valid, y_valid)]\n",
    "reg.fit(X_train,y_train,early_stopping_rounds=50,eval_metric='logloss',eval_set=eval_set,verbose=True)"
   ]
  },
  {
   "cell_type": "markdown",
   "metadata": {},
   "source": [
    "early stoppingについて\n",
    "https://machinelearningmastery.com/avoid-overfitting-by-early-stopping-with-xgboost-in-python/"
   ]
  },
  {
   "cell_type": "markdown",
   "metadata": {},
   "source": [
    "XGBRegeressorについて\n",
    "https://qiita.com/msrks/items/e3e958c04a5167575c41"
   ]
  },
  {
   "cell_type": "code",
   "execution_count": 8,
   "metadata": {},
   "outputs": [
    {
     "data": {
      "image/png": "[encoded data removed]",
      "text/plain": [
       "<matplotlib.figure.Figure at 0x67b5462438>"
      ]
     },
     "metadata": {},
     "output_type": "display_data"
    }
   ],
   "source": [
    "importances = pd.Series(reg.feature_importances_, index = X_train.columns)\n",
    "importances = importances.sort_values()\n",
    "importances.plot(kind = \"barh\")\n",
    "plt.title(\"feature imporance\")\n",
    "plt.show()"
   ]
  },
  {
   "cell_type": "markdown",
   "metadata": {},
   "source": [
    "# 3.Predict"
   ]
  },
  {
   "cell_type": "code",
   "execution_count": 9,
   "metadata": {},
   "outputs": [],
   "source": [
    "station_dummy = pd.Series(np.zeros(2430))\n",
    "test = pd.concat([test,station_dummy],axis=1)\n",
    "\n",
    "\n",
    "datetime_test = pd.to_datetime(test.loc[:,\"年月日\"])\n",
    "year_test = datetime_test.apply(lambda x:x.year)\n",
    "month_test = datetime_test.apply(lambda x:x.month)\n",
    "day_test = datetime_test.apply(lambda x:x.day)\n",
    "\n",
    "test = pd.concat([test,datetime_test],axis=1)\n",
    "test = pd.concat([test,year_test],axis=1)\n",
    "test = pd.concat([test,month_test],axis=1)\n",
    "test = pd.concat([test,day_test],axis=1)\n",
    "\n",
    "test.columns = [\"id\",\"年月日\",\"列車番号\",\"station_dummy\",\"datetime\",\"year\",\"month\",\"day\"]"
   ]
  },
  {
   "cell_type": "code",
   "execution_count": 10,
   "metadata": {},
   "outputs": [],
   "source": [
    "test_id=test[\"id\"]\n",
    "test = test[feature_name]\n",
    "predict = reg.predict(test)\n",
    "predict = pd.DataFrame(predict)\n",
    "\n",
    "submission = pd.concat((test_id,predict), axis = 1)"
   ]
  },
  {
   "cell_type": "code",
   "execution_count": 11,
   "metadata": {
    "collapsed": true
   },
   "outputs": [],
   "source": [
    "submission.to_csv(\"sumission.csv\", index = False, header = None)"
   ]
  },
  {
   "cell_type": "markdown",
   "metadata": {},
   "source": [
    "7日前からのデータを追加するアイディアを採用するのがいいかもしれない"
   ]
  },
  {
   "cell_type": "code",
   "execution_count": null,
   "metadata": {
    "collapsed": true
   },
   "outputs": [],
   "source": []
  }
 ],
 "metadata": {
  "kernelspec": {
   "display_name": "Python 3",
   "language": "python",
   "name": "python3"
  },
  "language_info": {
   "codemirror_mode": {
    "name": "ipython",
    "version": 3
   },
   "file_extension": ".py",
   "mimetype": "text/x-python",
   "name": "python",
   "nbconvert_exporter": "python",
   "pygments_lexer": "ipython3",
   "version": "3.6.1"
  }
 },
 "nbformat": 4,
 "nbformat_minor": 2
}
